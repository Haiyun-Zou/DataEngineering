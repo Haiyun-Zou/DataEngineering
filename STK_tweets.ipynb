{
 "cells": [
  {
   "cell_type": "code",
   "execution_count": 34,
   "id": "0c356e7a",
   "metadata": {},
   "outputs": [
    {
     "name": "stdout",
     "output_type": "stream",
     "text": [
      "URL of query: https://api.twitter.com/2/tweets/search/recent?query=Short+Track+Skating\n",
      "tweet_id:  1508825845645070343 tweet_text:  RT @Olympics: Gold again 🥇\n",
      "\n",
      "Watch how world record-holder Choi Minjeong took home back-to-back gold medals in the short track speed skating…\n",
      "tweet_id:  1508757892111167493 tweet_text:  RT @globaltimesnews: Due to multiple reasons, China’s short track speed skating team has decided to withdraw from the world championships i…\n",
      "tweet_id:  1508728363095101442 tweet_text:  RT @ChinaDaily: After 7-day self-quarantine at home in Changchun city, Li Qishi hurried to volunteer in the fight against the recent COVID-…\n",
      "tweet_id:  1508725806121455616 tweet_text:  RT @globaltimesnews: Due to multiple reasons, China’s short track speed skating team has decided to withdraw from the world championships i…\n",
      "tweet_id:  1508717526154416129 tweet_text:  RT @globaltimesnews: Due to multiple reasons, China’s short track speed skating team has decided to withdraw from the world championships i…\n",
      "tweet_id:  1508712597788450818 tweet_text:  RT @globaltimesnews: Due to multiple reasons, China’s short track speed skating team has decided to withdraw from the world championships i…\n",
      "tweet_id:  1508710995337883651 tweet_text:  RT @PDChinaSports: Chinese short-track speed skating team has withdrawn from the 2022 World Short Track Speed Skating Championships, which…\n",
      "tweet_id:  1508710756270845953 tweet_text:  RT @globaltimesnews: Due to multiple reasons, China’s short track speed skating team has decided to withdraw from the world championships i…\n",
      "tweet_id:  1508710488250617856 tweet_text:  Chinese short-track speed skating team has withdrawn from the 2022 World Short Track Speed Skating Championships, which will be held from April 8-10 in Montreal, Canada, due to the concern of the COVID-19 pandemic. https://t.co/GnC2Htdjhp\n",
      "tweet_id:  1508708097711247360 tweet_text:  RT @globaltimesnews: Due to multiple reasons, China’s short track speed skating team has decided to withdraw from the world championships i…\n"
     ]
    }
   ],
   "source": [
    "import pandas as pd\n",
    "import requests\n",
    "import json\n",
    "\n",
    "api_key = 'wkxIkajRgLTVkbL2N9zz0G7RN'\n",
    "api_secret_key = 'nXuL6pk0OaluzSzxIjIbSBhbsz5EfBrsULX6IatiPJ3D00Auk5'\n",
    "bearer_token = 'AAAAAAAAAAAAAAAAAAAAADx2aQEAAAAAfdKUH18l6uqR9DAwzr4fER9CS1U%3DnHcc0nZYYe8JfMdYMSnlkDiE1Qiupp6zVqRxzUQpoTNn9e78V5'\n",
    "\n",
    "\n",
    "query = \"Short Track Skating\"\n",
    "\n",
    "# Prepare the headers to pass the authentication to Twitter's api\n",
    "headers = {\n",
    "    'Authorization': 'Bearer {}'.format(bearer_token),\n",
    "}\n",
    "\n",
    "params = (\n",
    "    ('query', query),\n",
    ")\n",
    "\n",
    "# Does the request to get the most recent tweets\n",
    "response = requests.get('https://api.twitter.com/2/tweets/search/recent', headers=headers, params=params)\n",
    "\n",
    "# Validates that the query was successful\n",
    "if response.status_code == 200:\n",
    "    print(\"URL of query:\", response.url)\n",
    "    \n",
    "    # Let's convert the query result to a dictionary that we can iterate over\n",
    "    tweets =  json.loads(response.text)\n",
    "    \n",
    "    for tweet in tweets['data']:\n",
    "        print(\"tweet_id: \", tweet['id'], \"tweet_text: \", tweet['text'])"
   ]
  },
  {
   "cell_type": "code",
   "execution_count": 35,
   "id": "2f5c7ffb",
   "metadata": {},
   "outputs": [],
   "source": [
    "stk_tweet = pd.DataFrame({'id':[tweet['id'] for tweet in tweets['data']], 'text':[tweet['text'] for tweet in tweets['data']]})"
   ]
  },
  {
   "cell_type": "code",
   "execution_count": 36,
   "id": "f9e9d494",
   "metadata": {},
   "outputs": [
    {
     "data": {
      "text/html": [
       "<div>\n",
       "<style scoped>\n",
       "    .dataframe tbody tr th:only-of-type {\n",
       "        vertical-align: middle;\n",
       "    }\n",
       "\n",
       "    .dataframe tbody tr th {\n",
       "        vertical-align: top;\n",
       "    }\n",
       "\n",
       "    .dataframe thead th {\n",
       "        text-align: right;\n",
       "    }\n",
       "</style>\n",
       "<table border=\"1\" class=\"dataframe\">\n",
       "  <thead>\n",
       "    <tr style=\"text-align: right;\">\n",
       "      <th></th>\n",
       "      <th>id</th>\n",
       "      <th>text</th>\n",
       "    </tr>\n",
       "  </thead>\n",
       "  <tbody>\n",
       "    <tr>\n",
       "      <th>0</th>\n",
       "      <td>1508825845645070343</td>\n",
       "      <td>RT @Olympics: Gold again 🥇\\n\\nWatch how world ...</td>\n",
       "    </tr>\n",
       "    <tr>\n",
       "      <th>1</th>\n",
       "      <td>1508757892111167493</td>\n",
       "      <td>RT @globaltimesnews: Due to multiple reasons, ...</td>\n",
       "    </tr>\n",
       "    <tr>\n",
       "      <th>2</th>\n",
       "      <td>1508728363095101442</td>\n",
       "      <td>RT @ChinaDaily: After 7-day self-quarantine at...</td>\n",
       "    </tr>\n",
       "    <tr>\n",
       "      <th>3</th>\n",
       "      <td>1508725806121455616</td>\n",
       "      <td>RT @globaltimesnews: Due to multiple reasons, ...</td>\n",
       "    </tr>\n",
       "    <tr>\n",
       "      <th>4</th>\n",
       "      <td>1508717526154416129</td>\n",
       "      <td>RT @globaltimesnews: Due to multiple reasons, ...</td>\n",
       "    </tr>\n",
       "    <tr>\n",
       "      <th>5</th>\n",
       "      <td>1508712597788450818</td>\n",
       "      <td>RT @globaltimesnews: Due to multiple reasons, ...</td>\n",
       "    </tr>\n",
       "    <tr>\n",
       "      <th>6</th>\n",
       "      <td>1508710995337883651</td>\n",
       "      <td>RT @PDChinaSports: Chinese short-track speed s...</td>\n",
       "    </tr>\n",
       "    <tr>\n",
       "      <th>7</th>\n",
       "      <td>1508710756270845953</td>\n",
       "      <td>RT @globaltimesnews: Due to multiple reasons, ...</td>\n",
       "    </tr>\n",
       "    <tr>\n",
       "      <th>8</th>\n",
       "      <td>1508710488250617856</td>\n",
       "      <td>Chinese short-track speed skating team has wit...</td>\n",
       "    </tr>\n",
       "    <tr>\n",
       "      <th>9</th>\n",
       "      <td>1508708097711247360</td>\n",
       "      <td>RT @globaltimesnews: Due to multiple reasons, ...</td>\n",
       "    </tr>\n",
       "  </tbody>\n",
       "</table>\n",
       "</div>"
      ],
      "text/plain": [
       "                    id                                               text\n",
       "0  1508825845645070343  RT @Olympics: Gold again 🥇\\n\\nWatch how world ...\n",
       "1  1508757892111167493  RT @globaltimesnews: Due to multiple reasons, ...\n",
       "2  1508728363095101442  RT @ChinaDaily: After 7-day self-quarantine at...\n",
       "3  1508725806121455616  RT @globaltimesnews: Due to multiple reasons, ...\n",
       "4  1508717526154416129  RT @globaltimesnews: Due to multiple reasons, ...\n",
       "5  1508712597788450818  RT @globaltimesnews: Due to multiple reasons, ...\n",
       "6  1508710995337883651  RT @PDChinaSports: Chinese short-track speed s...\n",
       "7  1508710756270845953  RT @globaltimesnews: Due to multiple reasons, ...\n",
       "8  1508710488250617856  Chinese short-track speed skating team has wit...\n",
       "9  1508708097711247360  RT @globaltimesnews: Due to multiple reasons, ..."
      ]
     },
     "execution_count": 36,
     "metadata": {},
     "output_type": "execute_result"
    }
   ],
   "source": [
    "stk_tweet"
   ]
  }
 ],
 "metadata": {
  "kernelspec": {
   "display_name": "Python 3",
   "language": "python",
   "name": "python3"
  },
  "language_info": {
   "codemirror_mode": {
    "name": "ipython",
    "version": 3
   },
   "file_extension": ".py",
   "mimetype": "text/x-python",
   "name": "python",
   "nbconvert_exporter": "python",
   "pygments_lexer": "ipython3",
   "version": "3.8.2"
  }
 },
 "nbformat": 4,
 "nbformat_minor": 5
}
