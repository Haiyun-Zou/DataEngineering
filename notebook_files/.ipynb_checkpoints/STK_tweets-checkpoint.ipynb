{
 "cells": [
  {
   "cell_type": "code",
   "execution_count": null,
   "id": "d407da4f",
   "metadata": {},
   "outputs": [],
   "source": [
    "from dvc.api import make_checkpoint"
   ]
  },
  {
   "cell_type": "code",
   "execution_count": 1,
   "id": "0c356e7a",
   "metadata": {},
   "outputs": [
    {
     "name": "stdout",
     "output_type": "stream",
     "text": [
      "URL of query: https://api.twitter.com/2/tweets/search/recent?query=Short+Track+Skating\n",
      "tweet_id:  1510989183762206722 tweet_text:  sport psychology beneran harus banget diseriusin sih, apalagi gara-gara ngikutin cabor olahraga lain (panahan, short track speed skating) emang beneran sport psychology se-berpengaruh itu.. https://t.co/3gc2U6p9Mw\n",
      "tweet_id:  1510965811824967685 tweet_text:  RT @CanuckleGame: In Canada's olympic history, its athletes have received a total medal count of 79 in speed skating, 29 in figure skating,…\n",
      "tweet_id:  1510899398846341127 tweet_text:  RT @TeamGB: Practice makes perfect 👏\n",
      "\n",
      "@NiallTreacy1 preparing for the Short Track Speed Skating Championships in Montreal next week ⛸️\n",
      "\n",
      "#Te…\n",
      "tweet_id:  1510866003739226115 tweet_text:  ⛸ 2022 #WorldShortTrack Speed Skating Championships in #Canada 🇨🇦 #Montreal start in 4 days @ISU_Speed #ShortTrack https://t.co/al9Q1vZ3WJ\n",
      "tweet_id:  1510844656728174596 tweet_text:  @CarmichaelDave Short track speed skating, just waiting for an opportunity.\n",
      "tweet_id:  1510777570320695303 tweet_text:  RT @TeamGB: Practice makes perfect 👏\n",
      "\n",
      "@NiallTreacy1 preparing for the Short Track Speed Skating Championships in Montreal next week ⛸️\n",
      "\n",
      "#Te…\n",
      "tweet_id:  1510717099865477120 tweet_text:  @BristOliver Hugely admire your work but am prepared to take my shirt off in a pub car park and fight you over the short track speed skating.\n",
      "tweet_id:  1510685166603313155 tweet_text:  RT @eSC_LIVE: Multiple World and European short track speed skating champion @Elise_Christie will be looking to bring her pace and expert c…\n",
      "tweet_id:  1510633552030928898 tweet_text:  In Canada's olympic history, its athletes have received a total medal count of 79 in speed skating, 29 in figure skating, and 23 in hockey. Charles Hamelin (short track) and Cindy Klassen (long track) are Canada's most decorated winter olympians with 6 medals each. https://t.co/kX9t8GNAGn\n",
      "tweet_id:  1510629104525221896 tweet_text:  RT @eSC_LIVE: Multiple World and European short track speed skating champion @Elise_Christie will be looking to bring her pace and expert c…\n"
     ]
    }
   ],
   "source": [
    "# get the tweets using the twitter api\n",
    "import pandas as pd\n",
    "import requests\n",
    "import json\n",
    "\n",
    "api_key = 'wkxIkajRgLTVkbL2N9zz0G7RN'\n",
    "api_secret_key = 'nXuL6pk0OaluzSzxIjIbSBhbsz5EfBrsULX6IatiPJ3D00Auk5'\n",
    "bearer_token = 'AAAAAAAAAAAAAAAAAAAAADx2aQEAAAAAfdKUH18l6uqR9DAwzr4fER9CS1U%3DnHcc0nZYYe8JfMdYMSnlkDiE1Qiupp6zVqRxzUQpoTNn9e78V5'\n",
    "\n",
    "\n",
    "query = \"Short Track Skating\"\n",
    "\n",
    "# Prepare the headers to pass the authentication to Twitter's api\n",
    "headers = {\n",
    "    'Authorization': 'Bearer {}'.format(bearer_token),\n",
    "}\n",
    "\n",
    "params = (\n",
    "    ('query', query),\n",
    ")\n",
    "\n",
    "# Does the request to get the most recent tweets\n",
    "response = requests.get('https://api.twitter.com/2/tweets/search/recent', headers=headers, params=params)\n",
    "\n",
    "# Validates that the query was successful\n",
    "if response.status_code == 200:\n",
    "    print(\"URL of query:\", response.url)\n",
    "    \n",
    "    # Let's convert the query result to a dictionary that we can iterate over\n",
    "    tweets =  json.loads(response.text)\n",
    "    \n",
    "    for tweet in tweets['data']:\n",
    "        print(\"tweet_id: \", tweet['id'], \"tweet_text: \", tweet['text'])"
   ]
  },
  {
   "cell_type": "code",
   "execution_count": 2,
   "id": "2f5c7ffb",
   "metadata": {},
   "outputs": [],
   "source": [
    "# convert the tweets information into data frame\n",
    "stk_tweet = pd.DataFrame({'id':[tweet['id'] for tweet in tweets['data']], 'text':[tweet['text'] for tweet in tweets['data']]})\n",
    "make_checkpoint()"
   ]
  },
  {
   "cell_type": "code",
   "execution_count": 3,
   "id": "f9e9d494",
   "metadata": {
    "scrolled": true
   },
   "outputs": [
    {
     "data": {
      "text/html": [
       "<div>\n",
       "<style scoped>\n",
       "    .dataframe tbody tr th:only-of-type {\n",
       "        vertical-align: middle;\n",
       "    }\n",
       "\n",
       "    .dataframe tbody tr th {\n",
       "        vertical-align: top;\n",
       "    }\n",
       "\n",
       "    .dataframe thead th {\n",
       "        text-align: right;\n",
       "    }\n",
       "</style>\n",
       "<table border=\"1\" class=\"dataframe\">\n",
       "  <thead>\n",
       "    <tr style=\"text-align: right;\">\n",
       "      <th></th>\n",
       "      <th>id</th>\n",
       "      <th>text</th>\n",
       "    </tr>\n",
       "  </thead>\n",
       "  <tbody>\n",
       "    <tr>\n",
       "      <th>0</th>\n",
       "      <td>1510989183762206722</td>\n",
       "      <td>sport psychology beneran harus banget diserius...</td>\n",
       "    </tr>\n",
       "    <tr>\n",
       "      <th>1</th>\n",
       "      <td>1510965811824967685</td>\n",
       "      <td>RT @CanuckleGame: In Canada's olympic history,...</td>\n",
       "    </tr>\n",
       "    <tr>\n",
       "      <th>2</th>\n",
       "      <td>1510899398846341127</td>\n",
       "      <td>RT @TeamGB: Practice makes perfect 👏\\n\\n@Niall...</td>\n",
       "    </tr>\n",
       "    <tr>\n",
       "      <th>3</th>\n",
       "      <td>1510866003739226115</td>\n",
       "      <td>⛸ 2022 #WorldShortTrack Speed Skating Champion...</td>\n",
       "    </tr>\n",
       "    <tr>\n",
       "      <th>4</th>\n",
       "      <td>1510844656728174596</td>\n",
       "      <td>@CarmichaelDave Short track speed skating, jus...</td>\n",
       "    </tr>\n",
       "    <tr>\n",
       "      <th>5</th>\n",
       "      <td>1510777570320695303</td>\n",
       "      <td>RT @TeamGB: Practice makes perfect 👏\\n\\n@Niall...</td>\n",
       "    </tr>\n",
       "    <tr>\n",
       "      <th>6</th>\n",
       "      <td>1510717099865477120</td>\n",
       "      <td>@BristOliver Hugely admire your work but am pr...</td>\n",
       "    </tr>\n",
       "    <tr>\n",
       "      <th>7</th>\n",
       "      <td>1510685166603313155</td>\n",
       "      <td>RT @eSC_LIVE: Multiple World and European shor...</td>\n",
       "    </tr>\n",
       "    <tr>\n",
       "      <th>8</th>\n",
       "      <td>1510633552030928898</td>\n",
       "      <td>In Canada's olympic history, its athletes have...</td>\n",
       "    </tr>\n",
       "    <tr>\n",
       "      <th>9</th>\n",
       "      <td>1510629104525221896</td>\n",
       "      <td>RT @eSC_LIVE: Multiple World and European shor...</td>\n",
       "    </tr>\n",
       "  </tbody>\n",
       "</table>\n",
       "</div>"
      ],
      "text/plain": [
       "                    id                                               text\n",
       "0  1510989183762206722  sport psychology beneran harus banget diserius...\n",
       "1  1510965811824967685  RT @CanuckleGame: In Canada's olympic history,...\n",
       "2  1510899398846341127  RT @TeamGB: Practice makes perfect 👏\\n\\n@Niall...\n",
       "3  1510866003739226115  ⛸ 2022 #WorldShortTrack Speed Skating Champion...\n",
       "4  1510844656728174596  @CarmichaelDave Short track speed skating, jus...\n",
       "5  1510777570320695303  RT @TeamGB: Practice makes perfect 👏\\n\\n@Niall...\n",
       "6  1510717099865477120  @BristOliver Hugely admire your work but am pr...\n",
       "7  1510685166603313155  RT @eSC_LIVE: Multiple World and European shor...\n",
       "8  1510633552030928898  In Canada's olympic history, its athletes have...\n",
       "9  1510629104525221896  RT @eSC_LIVE: Multiple World and European shor..."
      ]
     },
     "execution_count": 3,
     "metadata": {},
     "output_type": "execute_result"
    }
   ],
   "source": [
    "stk_tweet"
   ]
  },
  {
   "cell_type": "code",
   "execution_count": 4,
   "id": "d944f3be",
   "metadata": {
    "scrolled": true
   },
   "outputs": [
    {
     "name": "stdout",
     "output_type": "stream",
     "text": [
      "\u001b[1m\n",
      "         .:::.     .::.       \n",
      "        ....yy:    .yy.       \n",
      "        :.  .yy.    y.        \n",
      "             :y:   .:         \n",
      "             .yy  .:          \n",
      "              yy..:           \n",
      "              :y:.            \n",
      "              .y.             \n",
      "             .:.              \n",
      "        ....:.                \n",
      "        :::.                  \n",
      "\u001b[0;33m\n",
      "• Project files and data should be stored in /project. This is shared among everyone\n",
      "  in the project.\n",
      "• Personal files and configuration should be stored in /home/faculty.\n",
      "• Files outside /project and /home/faculty will be lost when this server is terminated.\n",
      "• Create custom environments to setup your servers reproducibly.\n",
      "\u001b[0m\n",
      "Collecting vaderSentiment\n",
      "  Using cached vaderSentiment-3.3.2-py2.py3-none-any.whl (125 kB)\n",
      "Requirement already satisfied: requests in /opt/anaconda/envs/Python3/lib/python3.8/site-packages (from vaderSentiment) (2.25.1)\n",
      "Requirement already satisfied: chardet<5,>=3.0.2 in /opt/anaconda/envs/Python3/lib/python3.8/site-packages (from requests->vaderSentiment) (4.0.0)\n",
      "Requirement already satisfied: certifi>=2017.4.17 in /opt/anaconda/envs/Python3/lib/python3.8/site-packages (from requests->vaderSentiment) (2021.5.30)\n",
      "Requirement already satisfied: idna<3,>=2.5 in /opt/anaconda/envs/Python3/lib/python3.8/site-packages (from requests->vaderSentiment) (2.10)\n",
      "Requirement already satisfied: urllib3<1.27,>=1.21.1 in /opt/anaconda/envs/Python3/lib/python3.8/site-packages (from requests->vaderSentiment) (1.26.4)\n",
      "Installing collected packages: vaderSentiment\n",
      "Successfully installed vaderSentiment-3.3.2\n"
     ]
    }
   ],
   "source": [
    "!pip install vaderSentiment"
   ]
  },
  {
   "cell_type": "code",
   "execution_count": 5,
   "id": "4533c195",
   "metadata": {},
   "outputs": [],
   "source": [
    "from vaderSentiment.vaderSentiment import SentimentIntensityAnalyzer "
   ]
  },
  {
   "cell_type": "code",
   "execution_count": 6,
   "id": "84a7c2a6",
   "metadata": {},
   "outputs": [
    {
     "name": "stdout",
     "output_type": "stream",
     "text": [
      "sport psychology beneran harus banget diseriusin sih, apalagi gara-gara ngikutin cabor olahraga lain (panahan, short track speed skating) emang beneran sport psychology se-berpengaruh itu.. https://t.co/3gc2U6p9Mw\n",
      "{'neg': 0.0, 'neu': 1.0, 'pos': 0.0, 'compound': 0.0}\n",
      "RT @CanuckleGame: In Canada's olympic history, its athletes have received a total medal count of 79 in speed skating, 29 in figure skating,…\n",
      "{'neg': 0.0, 'neu': 0.866, 'pos': 0.134, 'compound': 0.5256}\n",
      "RT @TeamGB: Practice makes perfect 👏\n",
      "\n",
      "@NiallTreacy1 preparing for the Short Track Speed Skating Championships in Montreal next week ⛸️\n",
      "\n",
      "#Te…\n",
      "{'neg': 0.0, 'neu': 0.753, 'pos': 0.247, 'compound': 0.7845}\n",
      "⛸ 2022 #WorldShortTrack Speed Skating Championships in #Canada 🇨🇦 #Montreal start in 4 days @ISU_Speed #ShortTrack https://t.co/al9Q1vZ3WJ\n",
      "{'neg': 0.0, 'neu': 0.842, 'pos': 0.158, 'compound': 0.4939}\n",
      "@CarmichaelDave Short track speed skating, just waiting for an opportunity.\n",
      "{'neg': 0.0, 'neu': 0.763, 'pos': 0.237, 'compound': 0.4215}\n",
      "RT @TeamGB: Practice makes perfect 👏\n",
      "\n",
      "@NiallTreacy1 preparing for the Short Track Speed Skating Championships in Montreal next week ⛸️\n",
      "\n",
      "#Te…\n",
      "{'neg': 0.0, 'neu': 0.753, 'pos': 0.247, 'compound': 0.7845}\n",
      "@BristOliver Hugely admire your work but am prepared to take my shirt off in a pub car park and fight you over the short track speed skating.\n",
      "{'neg': 0.106, 'neu': 0.751, 'pos': 0.142, 'compound': 0.0378}\n",
      "RT @eSC_LIVE: Multiple World and European short track speed skating champion @Elise_Christie will be looking to bring her pace and expert c…\n",
      "{'neg': 0.0, 'neu': 0.843, 'pos': 0.157, 'compound': 0.5994}\n",
      "In Canada's olympic history, its athletes have received a total medal count of 79 in speed skating, 29 in figure skating, and 23 in hockey. Charles Hamelin (short track) and Cindy Klassen (long track) are Canada's most decorated winter olympians with 6 medals each. https://t.co/kX9t8GNAGn\n",
      "{'neg': 0.0, 'neu': 0.928, 'pos': 0.072, 'compound': 0.5256}\n",
      "RT @eSC_LIVE: Multiple World and European short track speed skating champion @Elise_Christie will be looking to bring her pace and expert c…\n",
      "{'neg': 0.0, 'neu': 0.843, 'pos': 0.157, 'compound': 0.5994}\n"
     ]
    }
   ],
   "source": [
    "# doing the sentiment analysis\n",
    "analyzer = SentimentIntensityAnalyzer()\n",
    "list_all_score = []\n",
    "for t in stk_tweet['text']:\n",
    "    vs = analyzer.polarity_scores(t)\n",
    "    print(t)\n",
    "    print(vs)\n",
    "    list_all_score.append(vs)"
   ]
  },
  {
   "cell_type": "code",
   "execution_count": 7,
   "id": "0f26eecc",
   "metadata": {},
   "outputs": [],
   "source": [
    "# merge the sentiment data for each row\n",
    "stk_tweet = pd.concat([stk_tweet, pd.DataFrame({'neg':[i['neg'] for i in list_all_score],\n",
    "             'neu':[i['neu'] for i in list_all_score],\n",
    "             'pos':[i['pos'] for i in list_all_score],\n",
    "             'compound':[i['compound'] for i in list_all_score]})], axis = 1)\n",
    "make_checkpoint()"
   ]
  },
  {
   "cell_type": "code",
   "execution_count": 8,
   "id": "f4e1888b",
   "metadata": {},
   "outputs": [
    {
     "data": {
      "text/html": [
       "<div>\n",
       "<style scoped>\n",
       "    .dataframe tbody tr th:only-of-type {\n",
       "        vertical-align: middle;\n",
       "    }\n",
       "\n",
       "    .dataframe tbody tr th {\n",
       "        vertical-align: top;\n",
       "    }\n",
       "\n",
       "    .dataframe thead th {\n",
       "        text-align: right;\n",
       "    }\n",
       "</style>\n",
       "<table border=\"1\" class=\"dataframe\">\n",
       "  <thead>\n",
       "    <tr style=\"text-align: right;\">\n",
       "      <th></th>\n",
       "      <th>id</th>\n",
       "      <th>text</th>\n",
       "      <th>neg</th>\n",
       "      <th>neu</th>\n",
       "      <th>pos</th>\n",
       "      <th>compound</th>\n",
       "    </tr>\n",
       "  </thead>\n",
       "  <tbody>\n",
       "    <tr>\n",
       "      <th>0</th>\n",
       "      <td>1510989183762206722</td>\n",
       "      <td>sport psychology beneran harus banget diserius...</td>\n",
       "      <td>0.000</td>\n",
       "      <td>1.000</td>\n",
       "      <td>0.000</td>\n",
       "      <td>0.0000</td>\n",
       "    </tr>\n",
       "    <tr>\n",
       "      <th>1</th>\n",
       "      <td>1510965811824967685</td>\n",
       "      <td>RT @CanuckleGame: In Canada's olympic history,...</td>\n",
       "      <td>0.000</td>\n",
       "      <td>0.866</td>\n",
       "      <td>0.134</td>\n",
       "      <td>0.5256</td>\n",
       "    </tr>\n",
       "    <tr>\n",
       "      <th>2</th>\n",
       "      <td>1510899398846341127</td>\n",
       "      <td>RT @TeamGB: Practice makes perfect 👏\\n\\n@Niall...</td>\n",
       "      <td>0.000</td>\n",
       "      <td>0.753</td>\n",
       "      <td>0.247</td>\n",
       "      <td>0.7845</td>\n",
       "    </tr>\n",
       "    <tr>\n",
       "      <th>3</th>\n",
       "      <td>1510866003739226115</td>\n",
       "      <td>⛸ 2022 #WorldShortTrack Speed Skating Champion...</td>\n",
       "      <td>0.000</td>\n",
       "      <td>0.842</td>\n",
       "      <td>0.158</td>\n",
       "      <td>0.4939</td>\n",
       "    </tr>\n",
       "    <tr>\n",
       "      <th>4</th>\n",
       "      <td>1510844656728174596</td>\n",
       "      <td>@CarmichaelDave Short track speed skating, jus...</td>\n",
       "      <td>0.000</td>\n",
       "      <td>0.763</td>\n",
       "      <td>0.237</td>\n",
       "      <td>0.4215</td>\n",
       "    </tr>\n",
       "    <tr>\n",
       "      <th>5</th>\n",
       "      <td>1510777570320695303</td>\n",
       "      <td>RT @TeamGB: Practice makes perfect 👏\\n\\n@Niall...</td>\n",
       "      <td>0.000</td>\n",
       "      <td>0.753</td>\n",
       "      <td>0.247</td>\n",
       "      <td>0.7845</td>\n",
       "    </tr>\n",
       "    <tr>\n",
       "      <th>6</th>\n",
       "      <td>1510717099865477120</td>\n",
       "      <td>@BristOliver Hugely admire your work but am pr...</td>\n",
       "      <td>0.106</td>\n",
       "      <td>0.751</td>\n",
       "      <td>0.142</td>\n",
       "      <td>0.0378</td>\n",
       "    </tr>\n",
       "    <tr>\n",
       "      <th>7</th>\n",
       "      <td>1510685166603313155</td>\n",
       "      <td>RT @eSC_LIVE: Multiple World and European shor...</td>\n",
       "      <td>0.000</td>\n",
       "      <td>0.843</td>\n",
       "      <td>0.157</td>\n",
       "      <td>0.5994</td>\n",
       "    </tr>\n",
       "    <tr>\n",
       "      <th>8</th>\n",
       "      <td>1510633552030928898</td>\n",
       "      <td>In Canada's olympic history, its athletes have...</td>\n",
       "      <td>0.000</td>\n",
       "      <td>0.928</td>\n",
       "      <td>0.072</td>\n",
       "      <td>0.5256</td>\n",
       "    </tr>\n",
       "    <tr>\n",
       "      <th>9</th>\n",
       "      <td>1510629104525221896</td>\n",
       "      <td>RT @eSC_LIVE: Multiple World and European shor...</td>\n",
       "      <td>0.000</td>\n",
       "      <td>0.843</td>\n",
       "      <td>0.157</td>\n",
       "      <td>0.5994</td>\n",
       "    </tr>\n",
       "  </tbody>\n",
       "</table>\n",
       "</div>"
      ],
      "text/plain": [
       "                    id                                               text  \\\n",
       "0  1510989183762206722  sport psychology beneran harus banget diserius...   \n",
       "1  1510965811824967685  RT @CanuckleGame: In Canada's olympic history,...   \n",
       "2  1510899398846341127  RT @TeamGB: Practice makes perfect 👏\\n\\n@Niall...   \n",
       "3  1510866003739226115  ⛸ 2022 #WorldShortTrack Speed Skating Champion...   \n",
       "4  1510844656728174596  @CarmichaelDave Short track speed skating, jus...   \n",
       "5  1510777570320695303  RT @TeamGB: Practice makes perfect 👏\\n\\n@Niall...   \n",
       "6  1510717099865477120  @BristOliver Hugely admire your work but am pr...   \n",
       "7  1510685166603313155  RT @eSC_LIVE: Multiple World and European shor...   \n",
       "8  1510633552030928898  In Canada's olympic history, its athletes have...   \n",
       "9  1510629104525221896  RT @eSC_LIVE: Multiple World and European shor...   \n",
       "\n",
       "     neg    neu    pos  compound  \n",
       "0  0.000  1.000  0.000    0.0000  \n",
       "1  0.000  0.866  0.134    0.5256  \n",
       "2  0.000  0.753  0.247    0.7845  \n",
       "3  0.000  0.842  0.158    0.4939  \n",
       "4  0.000  0.763  0.237    0.4215  \n",
       "5  0.000  0.753  0.247    0.7845  \n",
       "6  0.106  0.751  0.142    0.0378  \n",
       "7  0.000  0.843  0.157    0.5994  \n",
       "8  0.000  0.928  0.072    0.5256  \n",
       "9  0.000  0.843  0.157    0.5994  "
      ]
     },
     "execution_count": 8,
     "metadata": {},
     "output_type": "execute_result"
    }
   ],
   "source": [
    "stk_tweet"
   ]
  },
  {
   "cell_type": "code",
   "execution_count": 9,
   "id": "d45855b8",
   "metadata": {},
   "outputs": [],
   "source": [
    "import os"
   ]
  },
  {
   "cell_type": "code",
   "execution_count": 10,
   "id": "61c4a34a",
   "metadata": {},
   "outputs": [],
   "source": [
    "os.environ[\"JAVA_HOME\"] = \"/usr/lib/jvm/java-8-openjdk-amd64\"\n",
    "os.environ[\"SPARK_HOME\"] = \"/project/spark-3.2.1-bin-hadoop3.2\""
   ]
  },
  {
   "cell_type": "code",
   "execution_count": 11,
   "id": "91d683c5",
   "metadata": {},
   "outputs": [],
   "source": [
    "from pyspark.sql import SparkSession\n",
    "spark = SparkSession \\\n",
    "    .builder \\\n",
    "    .appName(\"PySpark App\") \\\n",
    "    .config(\"spark.jars\", \"postgresql-42.3.2.jar\") \\\n",
    "    .getOrCreate()"
   ]
  },
  {
   "cell_type": "code",
   "execution_count": 12,
   "id": "7f8fa140",
   "metadata": {},
   "outputs": [],
   "source": [
    "# convert the data frame into spark data frame\n",
    "stk_tweet_df = spark.createDataFrame(stk_tweet)"
   ]
  },
  {
   "cell_type": "code",
   "execution_count": 13,
   "id": "dbc1b2c2",
   "metadata": {},
   "outputs": [
    {
     "name": "stdout",
     "output_type": "stream",
     "text": [
      "root\n",
      " |-- id: string (nullable = true)\n",
      " |-- text: string (nullable = true)\n",
      " |-- neg: double (nullable = true)\n",
      " |-- neu: double (nullable = true)\n",
      " |-- pos: double (nullable = true)\n",
      " |-- compound: double (nullable = true)\n",
      "\n"
     ]
    }
   ],
   "source": [
    "stk_tweet_df.printSchema()"
   ]
  },
  {
   "cell_type": "code",
   "execution_count": 14,
   "id": "daee98e1",
   "metadata": {},
   "outputs": [],
   "source": [
    "# convert the data frame into parquet format\n",
    "stk_tweet_df.write.parquet(\"/project/DataEngineering/parquet_files/stk_tweet.parquet\", mode = 'overwrite')\n",
    "make_checkpoint()"
   ]
  }
 ],
 "metadata": {
  "kernelspec": {
   "display_name": "Python 3",
   "language": "python",
   "name": "python3"
  },
  "language_info": {
   "codemirror_mode": {
    "name": "ipython",
    "version": 3
   },
   "file_extension": ".py",
   "mimetype": "text/x-python",
   "name": "python",
   "nbconvert_exporter": "python",
   "pygments_lexer": "ipython3",
   "version": "3.8.2"
  }
 },
 "nbformat": 4,
 "nbformat_minor": 5
}
