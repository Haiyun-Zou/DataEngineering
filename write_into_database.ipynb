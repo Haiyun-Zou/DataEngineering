{
 "cells": [
  {
   "cell_type": "code",
   "execution_count": null,
   "id": "3ec9af86",
   "metadata": {},
   "outputs": [],
   "source": [
    "from dvc.api import make_checkpoint"
   ]
  },
  {
   "cell_type": "code",
   "execution_count": 51,
   "id": "5c93c485",
   "metadata": {},
   "outputs": [],
   "source": [
    "from pyspark.sql import SparkSession\n",
    "spark = SparkSession \\\n",
    "    .builder \\\n",
    "    .appName(\"PySpark App\") \\\n",
    "    .config(\"spark.jars\", \"postgresql-42.3.2.jar\") \\\n",
    "    .getOrCreate()"
   ]
  },
  {
   "cell_type": "code",
   "execution_count": 1,
   "id": "ba265c33",
   "metadata": {},
   "outputs": [
    {
     "ename": "NameError",
     "evalue": "name 'os' is not defined",
     "output_type": "error",
     "traceback": [
      "\u001b[0;31m---------------------------------------------------------------------------\u001b[0m",
      "\u001b[0;31mNameError\u001b[0m                                 Traceback (most recent call last)",
      "\u001b[0;32m<ipython-input-1-dd5b6fadcaf5>\u001b[0m in \u001b[0;36m<module>\u001b[0;34m\u001b[0m\n\u001b[0;32m----> 1\u001b[0;31m \u001b[0mos\u001b[0m\u001b[0;34m.\u001b[0m\u001b[0menviron\u001b[0m\u001b[0;34m[\u001b[0m\u001b[0;34m\"JAVA_HOME\"\u001b[0m\u001b[0;34m]\u001b[0m \u001b[0;34m=\u001b[0m \u001b[0;34m\"/usr/lib/jvm/java-8-openjdk-amd64\"\u001b[0m\u001b[0;34m\u001b[0m\u001b[0;34m\u001b[0m\u001b[0m\n\u001b[0m\u001b[1;32m      2\u001b[0m \u001b[0mos\u001b[0m\u001b[0;34m.\u001b[0m\u001b[0menviron\u001b[0m\u001b[0;34m[\u001b[0m\u001b[0;34m\"SPARK_HOME\"\u001b[0m\u001b[0;34m]\u001b[0m \u001b[0;34m=\u001b[0m \u001b[0;34m\"/project/spark-3.2.1-bin-hadoop3.2\"\u001b[0m\u001b[0;34m\u001b[0m\u001b[0;34m\u001b[0m\u001b[0m\n",
      "\u001b[0;31mNameError\u001b[0m: name 'os' is not defined"
     ]
    }
   ],
   "source": [
    "os.environ[\"JAVA_HOME\"] = \"/usr/lib/jvm/java-8-openjdk-amd64\"\n",
    "os.environ[\"SPARK_HOME\"] = \"/project/spark-3.2.1-bin-hadoop3.2\""
   ]
  },
  {
   "cell_type": "code",
   "execution_count": 52,
   "id": "13ba01b0",
   "metadata": {
    "scrolled": true
   },
   "outputs": [
    {
     "name": "stdout",
     "output_type": "stream",
     "text": [
      "\u001b[1m\n",
      "         .:::.     .::.       \n",
      "        ....yy:    .yy.       \n",
      "        :.  .yy.    y.        \n",
      "             :y:   .:         \n",
      "             .yy  .:          \n",
      "              yy..:           \n",
      "              :y:.            \n",
      "              .y.             \n",
      "             .:.              \n",
      "        ....:.                \n",
      "        :::.                  \n",
      "\u001b[0;33m\n",
      "• Project files and data should be stored in /project. This is shared among everyone\n",
      "  in the project.\n",
      "• Personal files and configuration should be stored in /home/faculty.\n",
      "• Files outside /project and /home/faculty will be lost when this server is terminated.\n",
      "• Create custom environments to setup your servers reproducibly.\n",
      "\u001b[0m\n",
      "psql:shorttrack.sql:1: NOTICE:  drop cascades to 10 other objects\n",
      "DETAIL:  drop cascades to table shorttrack.countries\n",
      "drop cascades to table shorttrack.athlete\n",
      "drop cascades to table shorttrack.relay_qfnl\n",
      "drop cascades to table shorttrack.relay_sfnl\n",
      "drop cascades to table shorttrack.relay_fnl\n",
      "drop cascades to table shorttrack.heat\n",
      "drop cascades to table shorttrack.qfnl\n",
      "drop cascades to table shorttrack.sfnl\n",
      "drop cascades to table shorttrack.fnl\n",
      "drop cascades to table shorttrack.tweets\n",
      "DROP SCHEMA\n",
      "CREATE SCHEMA\n",
      "psql:shorttrack.sql:5: NOTICE:  table \"athlete\" does not exist, skipping\n",
      "DROP TABLE\n",
      "psql:shorttrack.sql:6: NOTICE:  table \"countries\" does not exist, skipping\n",
      "DROP TABLE\n",
      "psql:shorttrack.sql:7: NOTICE:  table \"relay_qfnl\" does not exist, skipping\n",
      "DROP TABLE\n",
      "psql:shorttrack.sql:8: NOTICE:  table \"relay_sfnl\" does not exist, skipping\n",
      "DROP TABLE\n",
      "psql:shorttrack.sql:9: NOTICE:  table \"relay_fnl\" does not exist, skipping\n",
      "DROP TABLE\n",
      "psql:shorttrack.sql:10: NOTICE:  table \"heat\" does not exist, skipping\n",
      "DROP TABLE\n",
      "psql:shorttrack.sql:11: NOTICE:  table \"qfnl\" does not exist, skipping\n",
      "DROP TABLE\n",
      "psql:shorttrack.sql:12: NOTICE:  table \"sfnl\" does not exist, skipping\n",
      "DROP TABLE\n",
      "psql:shorttrack.sql:13: NOTICE:  table \"fnl\" does not exist, skipping\n",
      "DROP TABLE\n",
      "psql:shorttrack.sql:14: NOTICE:  table \"tweets\" does not exist, skipping\n",
      "DROP TABLE\n",
      "CREATE TABLE\n",
      "CREATE TABLE\n",
      "CREATE TABLE\n",
      "CREATE TABLE\n",
      "CREATE TABLE\n",
      "CREATE TABLE\n",
      "CREATE TABLE\n",
      "CREATE TABLE\n",
      "CREATE TABLE\n",
      "CREATE TABLE\n"
     ]
    }
   ],
   "source": [
    "# create the schema\n",
    "!PGPASSWORD=qwerty123 psql -h depgdb.crhso94tou3n.eu-west-2.rds.amazonaws.com -d haiyunzou21 -U haiyunzou21 -c '\\i shorttrack.sql'"
   ]
  },
  {
   "cell_type": "code",
   "execution_count": 53,
   "id": "784ec90f",
   "metadata": {},
   "outputs": [],
   "source": [
    "# read all the tables\n",
    "heat = spark.read.parquet(\"/project/DataEngineering/parquet_files/heat.parquet\")\n",
    "qfnl = spark.read.parquet(\"/project/DataEngineering/parquet_files/qfnl.parquet\")\n",
    "sfnl = spark.read.parquet(\"/project/DataEngineering/parquet_files/sfnl.parquet\")\n",
    "fnl = spark.read.parquet(\"/project/DataEngineering/parquet_files/fnl.parquet\")\n",
    "relay_qfnl = spark.read.parquet(\"/project/DataEngineering/parquet_files/relay_qfnl.parquet\")\n",
    "relay_sfnl = spark.read.parquet(\"/project/DataEngineering/parquet_files/relay_sfnl.parquet\")\n",
    "relay_fnl = spark.read.parquet(\"/project/DataEngineering/parquet_files/relay_fnl.parquet\")\n",
    "countries = spark.read.parquet(\"/project/DataEngineering/parquet_files/countries.parquet\")\n",
    "athlete = spark.read.parquet(\"/project/DataEngineering/parquet_files/athlete.parquet\")\n",
    "stk_tweet = spark.read.parquet(\"/project/DataEngineering/parquet_files/stk_tweet.parquet\")\n",
    "make_checkpoint()"
   ]
  },
  {
   "cell_type": "code",
   "execution_count": 54,
   "id": "9933b2f8",
   "metadata": {},
   "outputs": [],
   "source": [
    "# information for log into postgresql\n",
    "postgres_uri = \"jdbc:postgresql://depgdb.crhso94tou3n.eu-west-2.rds.amazonaws.com:5432/haiyunzou21\"\n",
    "user = \"haiyunzou21\"\n",
    "password = \"qwerty123\""
   ]
  },
  {
   "cell_type": "code",
   "execution_count": 55,
   "id": "afa8088e",
   "metadata": {},
   "outputs": [],
   "source": [
    "# write each table into the database\n",
    "countries.write.jdbc(url=postgres_uri, table=\"shorttrack.countries\", mode=\"append\", properties={\"user\":user, \"password\": password, \"driver\": \"org.postgresql.Driver\" })\n",
    "make_checkpoint()\n",
    "athlete.write.jdbc(url=postgres_uri, table=\"shorttrack.athlete\", mode=\"append\", properties={\"user\":user, \"password\": password, \"driver\": \"org.postgresql.Driver\" })\n",
    "make_checkpoint()\n",
    "heat.write.jdbc(url=postgres_uri, table=\"shorttrack.heat\", mode=\"append\", properties={\"user\":user, \"password\": password, \"driver\": \"org.postgresql.Driver\" })\n",
    "make_checkpoint()\n",
    "qfnl.write.jdbc(url=postgres_uri, table=\"shorttrack.qfnl\", mode=\"append\", properties={\"user\":user, \"password\": password, \"driver\": \"org.postgresql.Driver\" })\n",
    "make_checkpoint()\n",
    "sfnl.write.jdbc(url=postgres_uri, table=\"shorttrack.sfnl\", mode=\"append\", properties={\"user\":user, \"password\": password, \"driver\": \"org.postgresql.Driver\" })\n",
    "make_checkpoint()\n",
    "fnl.write.jdbc(url=postgres_uri, table=\"shorttrack.fnl\", mode=\"append\", properties={\"user\":user, \"password\": password, \"driver\": \"org.postgresql.Driver\" })\n",
    "make_checkpoint()\n",
    "relay_qfnl.write.jdbc(url=postgres_uri, table=\"shorttrack.relay_qfnl\", mode=\"append\", properties={\"user\":user, \"password\": password, \"driver\": \"org.postgresql.Driver\" })\n",
    "make_checkpoint()\n",
    "relay_sfnl.write.jdbc(url=postgres_uri, table=\"shorttrack.relay_sfnl\", mode=\"append\", properties={\"user\":user, \"password\": password, \"driver\": \"org.postgresql.Driver\" })\n",
    "make_checkpoint()\n",
    "relay_fnl.write.jdbc(url=postgres_uri, table=\"shorttrack.relay_fnl\", mode=\"append\", properties={\"user\":user, \"password\": password, \"driver\": \"org.postgresql.Driver\" })\n",
    "make_checkpoint()\n",
    "stk_tweet.write.jdbc(url=postgres_uri, table=\"shorttrack.tweets\", mode=\"append\", properties={\"user\":user, \"password\": password, \"driver\": \"org.postgresql.Driver\" })\n",
    "make_checkpoint()"
   ]
  }
 ],
 "metadata": {
  "kernelspec": {
   "display_name": "Python 3",
   "language": "python",
   "name": "python3"
  },
  "language_info": {
   "codemirror_mode": {
    "name": "ipython",
    "version": 3
   },
   "file_extension": ".py",
   "mimetype": "text/x-python",
   "name": "python",
   "nbconvert_exporter": "python",
   "pygments_lexer": "ipython3",
   "version": "3.8.2"
  }
 },
 "nbformat": 4,
 "nbformat_minor": 5
}
