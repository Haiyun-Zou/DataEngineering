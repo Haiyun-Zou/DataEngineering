{
 "cells": [
  {
   "cell_type": "code",
   "execution_count": 1,
   "id": "0c356e7a",
   "metadata": {},
   "outputs": [
    {
     "name": "stdout",
     "output_type": "stream",
     "text": [
      "URL of query: https://api.twitter.com/2/tweets/search/recent?query=Short+Track+Skating\n",
      "tweet_id:  1509620481007054855 tweet_text:  crazy Korea short track speed skating… https://t.co/LcX5vZPNqM\n",
      "tweet_id:  1509568253903118337 tweet_text:  RT @JilinChina: ⛸️Li Qishi, a world champion in short track speed skating at #Beijing2022, is serving as a volunteer in the fight against t…\n",
      "tweet_id:  1509456718627024896 tweet_text:  ⛸ 2022 #WorldShortTrack Speed Skating Championships in #Canada 🇨🇦 #Montreal start in 8 days @ISU_Speed #ShortTrack https://t.co/al9Q1vZ3WJ\n",
      "tweet_id:  1509385276443226116 tweet_text:  Yoongy Kwak is a national short track speed skater from South Korea. He is the world champion of the World Short Track Speed Skating Championships 2011/12 also, He is a medalist at the Vancouver Olympics(2010) and the Beijing Olympics(2022). Cheer for lovely skater yoongy!😍 https://t.co/QvbvwLf8Xs\n",
      "tweet_id:  1509338455087599618 tweet_text:  @notouchkwak @NotaCuttlefish @BlisterRich Lol😆 also, yoongy Kwak is the world champion of the World Short Track Speed Skating Championships 2011/2012.\n",
      "Cheer for the lovely skater! 💕 thanks!\n",
      "tweet_id:  1509324307218198528 tweet_text:  RT @farmerkwak1226: He is a member of South Korea's national short track speed skating team. At the same time, it is also a creative with 1…\n",
      "tweet_id:  1509324011179679746 tweet_text:  He is a member of South Korea's national short track speed skating team. At the same time, it is also a creative with 1.28 million subscribers.🤚🏻 https://t.co/Wp7Mr2ahzf\n",
      "tweet_id:  1509323080040132613 tweet_text:  RT @69Sports: Wilson WL grad Allison Baver gets Bronze medal in 3000 meter short track speed skating.\n",
      "tweet_id:  1509322545283149833 tweet_text:  RT @Alfaenshe: 'I would love to be at the next Olympics and if anything this will help my short track': Three-time speed skating world cham…\n",
      "tweet_id:  1509289306149601283 tweet_text:  @richard_littler I almost never remember a dream but, last night, I dreamed that I discovered being good at short track speed skating 🤷‍♂️\n"
     ]
    }
   ],
   "source": [
    "import pandas as pd\n",
    "import requests\n",
    "import json\n",
    "\n",
    "api_key = 'wkxIkajRgLTVkbL2N9zz0G7RN'\n",
    "api_secret_key = 'nXuL6pk0OaluzSzxIjIbSBhbsz5EfBrsULX6IatiPJ3D00Auk5'\n",
    "bearer_token = 'AAAAAAAAAAAAAAAAAAAAADx2aQEAAAAAfdKUH18l6uqR9DAwzr4fER9CS1U%3DnHcc0nZYYe8JfMdYMSnlkDiE1Qiupp6zVqRxzUQpoTNn9e78V5'\n",
    "\n",
    "\n",
    "query = \"Short Track Skating\"\n",
    "\n",
    "# Prepare the headers to pass the authentication to Twitter's api\n",
    "headers = {\n",
    "    'Authorization': 'Bearer {}'.format(bearer_token),\n",
    "}\n",
    "\n",
    "params = (\n",
    "    ('query', query),\n",
    ")\n",
    "\n",
    "# Does the request to get the most recent tweets\n",
    "response = requests.get('https://api.twitter.com/2/tweets/search/recent', headers=headers, params=params)\n",
    "\n",
    "# Validates that the query was successful\n",
    "if response.status_code == 200:\n",
    "    print(\"URL of query:\", response.url)\n",
    "    \n",
    "    # Let's convert the query result to a dictionary that we can iterate over\n",
    "    tweets =  json.loads(response.text)\n",
    "    \n",
    "    for tweet in tweets['data']:\n",
    "        print(\"tweet_id: \", tweet['id'], \"tweet_text: \", tweet['text'])"
   ]
  },
  {
   "cell_type": "code",
   "execution_count": 2,
   "id": "2f5c7ffb",
   "metadata": {},
   "outputs": [],
   "source": [
    "stk_tweet = pd.DataFrame({'id':[tweet['id'] for tweet in tweets['data']], 'text':[tweet['text'] for tweet in tweets['data']]})"
   ]
  },
  {
   "cell_type": "code",
   "execution_count": 3,
   "id": "f9e9d494",
   "metadata": {
    "scrolled": true
   },
   "outputs": [
    {
     "data": {
      "text/html": [
       "<div>\n",
       "<style scoped>\n",
       "    .dataframe tbody tr th:only-of-type {\n",
       "        vertical-align: middle;\n",
       "    }\n",
       "\n",
       "    .dataframe tbody tr th {\n",
       "        vertical-align: top;\n",
       "    }\n",
       "\n",
       "    .dataframe thead th {\n",
       "        text-align: right;\n",
       "    }\n",
       "</style>\n",
       "<table border=\"1\" class=\"dataframe\">\n",
       "  <thead>\n",
       "    <tr style=\"text-align: right;\">\n",
       "      <th></th>\n",
       "      <th>id</th>\n",
       "      <th>text</th>\n",
       "    </tr>\n",
       "  </thead>\n",
       "  <tbody>\n",
       "    <tr>\n",
       "      <th>0</th>\n",
       "      <td>1509620481007054855</td>\n",
       "      <td>crazy Korea short track speed skating… https:/...</td>\n",
       "    </tr>\n",
       "    <tr>\n",
       "      <th>1</th>\n",
       "      <td>1509568253903118337</td>\n",
       "      <td>RT @JilinChina: ⛸️Li Qishi, a world champion i...</td>\n",
       "    </tr>\n",
       "    <tr>\n",
       "      <th>2</th>\n",
       "      <td>1509456718627024896</td>\n",
       "      <td>⛸ 2022 #WorldShortTrack Speed Skating Champion...</td>\n",
       "    </tr>\n",
       "    <tr>\n",
       "      <th>3</th>\n",
       "      <td>1509385276443226116</td>\n",
       "      <td>Yoongy Kwak is a national short track speed sk...</td>\n",
       "    </tr>\n",
       "    <tr>\n",
       "      <th>4</th>\n",
       "      <td>1509338455087599618</td>\n",
       "      <td>@notouchkwak @NotaCuttlefish @BlisterRich Lol😆...</td>\n",
       "    </tr>\n",
       "    <tr>\n",
       "      <th>5</th>\n",
       "      <td>1509324307218198528</td>\n",
       "      <td>RT @farmerkwak1226: He is a member of South Ko...</td>\n",
       "    </tr>\n",
       "    <tr>\n",
       "      <th>6</th>\n",
       "      <td>1509324011179679746</td>\n",
       "      <td>He is a member of South Korea's national short...</td>\n",
       "    </tr>\n",
       "    <tr>\n",
       "      <th>7</th>\n",
       "      <td>1509323080040132613</td>\n",
       "      <td>RT @69Sports: Wilson WL grad Allison Baver get...</td>\n",
       "    </tr>\n",
       "    <tr>\n",
       "      <th>8</th>\n",
       "      <td>1509322545283149833</td>\n",
       "      <td>RT @Alfaenshe: 'I would love to be at the next...</td>\n",
       "    </tr>\n",
       "    <tr>\n",
       "      <th>9</th>\n",
       "      <td>1509289306149601283</td>\n",
       "      <td>@richard_littler I almost never remember a dre...</td>\n",
       "    </tr>\n",
       "  </tbody>\n",
       "</table>\n",
       "</div>"
      ],
      "text/plain": [
       "                    id                                               text\n",
       "0  1509620481007054855  crazy Korea short track speed skating… https:/...\n",
       "1  1509568253903118337  RT @JilinChina: ⛸️Li Qishi, a world champion i...\n",
       "2  1509456718627024896  ⛸ 2022 #WorldShortTrack Speed Skating Champion...\n",
       "3  1509385276443226116  Yoongy Kwak is a national short track speed sk...\n",
       "4  1509338455087599618  @notouchkwak @NotaCuttlefish @BlisterRich Lol😆...\n",
       "5  1509324307218198528  RT @farmerkwak1226: He is a member of South Ko...\n",
       "6  1509324011179679746  He is a member of South Korea's national short...\n",
       "7  1509323080040132613  RT @69Sports: Wilson WL grad Allison Baver get...\n",
       "8  1509322545283149833  RT @Alfaenshe: 'I would love to be at the next...\n",
       "9  1509289306149601283  @richard_littler I almost never remember a dre..."
      ]
     },
     "execution_count": 3,
     "metadata": {},
     "output_type": "execute_result"
    }
   ],
   "source": [
    "stk_tweet"
   ]
  },
  {
   "cell_type": "code",
   "execution_count": 4,
   "id": "d944f3be",
   "metadata": {
    "scrolled": true
   },
   "outputs": [
    {
     "name": "stdout",
     "output_type": "stream",
     "text": [
      "\u001b[1m\n",
      "         .:::.     .::.       \n",
      "        ....yy:    .yy.       \n",
      "        :.  .yy.    y.        \n",
      "             :y:   .:         \n",
      "             .yy  .:          \n",
      "              yy..:           \n",
      "              :y:.            \n",
      "              .y.             \n",
      "             .:.              \n",
      "        ....:.                \n",
      "        :::.                  \n",
      "\u001b[0;33m\n",
      "• Project files and data should be stored in /project. This is shared among everyone\n",
      "  in the project.\n",
      "• Personal files and configuration should be stored in /home/faculty.\n",
      "• Files outside /project and /home/faculty will be lost when this server is terminated.\n",
      "• Create custom environments to setup your servers reproducibly.\n",
      "\u001b[0m\n",
      "Collecting vaderSentiment\n",
      "  Using cached vaderSentiment-3.3.2-py2.py3-none-any.whl (125 kB)\n",
      "Requirement already satisfied: requests in /opt/anaconda/envs/Python3/lib/python3.8/site-packages (from vaderSentiment) (2.25.1)\n",
      "Requirement already satisfied: idna<3,>=2.5 in /opt/anaconda/envs/Python3/lib/python3.8/site-packages (from requests->vaderSentiment) (2.10)\n",
      "Requirement already satisfied: certifi>=2017.4.17 in /opt/anaconda/envs/Python3/lib/python3.8/site-packages (from requests->vaderSentiment) (2021.5.30)\n",
      "Requirement already satisfied: urllib3<1.27,>=1.21.1 in /opt/anaconda/envs/Python3/lib/python3.8/site-packages (from requests->vaderSentiment) (1.26.4)\n",
      "Requirement already satisfied: chardet<5,>=3.0.2 in /opt/anaconda/envs/Python3/lib/python3.8/site-packages (from requests->vaderSentiment) (4.0.0)\n",
      "Installing collected packages: vaderSentiment\n",
      "Successfully installed vaderSentiment-3.3.2\n"
     ]
    }
   ],
   "source": [
    "!pip install vaderSentiment"
   ]
  },
  {
   "cell_type": "code",
   "execution_count": 5,
   "id": "4533c195",
   "metadata": {},
   "outputs": [],
   "source": [
    "from vaderSentiment.vaderSentiment import SentimentIntensityAnalyzer "
   ]
  },
  {
   "cell_type": "code",
   "execution_count": 6,
   "id": "84a7c2a6",
   "metadata": {},
   "outputs": [
    {
     "name": "stdout",
     "output_type": "stream",
     "text": [
      "crazy Korea short track speed skating… https://t.co/LcX5vZPNqM\n",
      "{'neg': 0.286, 'neu': 0.714, 'pos': 0.0, 'compound': -0.34}\n",
      "RT @JilinChina: ⛸️Li Qishi, a world champion in short track speed skating at #Beijing2022, is serving as a volunteer in the fight against t…\n",
      "{'neg': 0.088, 'neu': 0.78, 'pos': 0.132, 'compound': 0.3182}\n",
      "⛸ 2022 #WorldShortTrack Speed Skating Championships in #Canada 🇨🇦 #Montreal start in 8 days @ISU_Speed #ShortTrack https://t.co/al9Q1vZ3WJ\n",
      "{'neg': 0.0, 'neu': 0.842, 'pos': 0.158, 'compound': 0.4939}\n",
      "Yoongy Kwak is a national short track speed skater from South Korea. He is the world champion of the World Short Track Speed Skating Championships 2011/12 also, He is a medalist at the Vancouver Olympics(2010) and the Beijing Olympics(2022). Cheer for lovely skater yoongy!😍 https://t.co/QvbvwLf8Xs\n",
      "{'neg': 0.0, 'neu': 0.716, 'pos': 0.284, 'compound': 0.9551}\n",
      "@notouchkwak @NotaCuttlefish @BlisterRich Lol😆 also, yoongy Kwak is the world champion of the World Short Track Speed Skating Championships 2011/2012.\n",
      "Cheer for the lovely skater! 💕 thanks!\n",
      "{'neg': 0.0, 'neu': 0.457, 'pos': 0.543, 'compound': 0.9804}\n",
      "RT @farmerkwak1226: He is a member of South Korea's national short track speed skating team. At the same time, it is also a creative with 1…\n",
      "{'neg': 0.0, 'neu': 0.896, 'pos': 0.104, 'compound': 0.4404}\n",
      "He is a member of South Korea's national short track speed skating team. At the same time, it is also a creative with 1.28 million subscribers.🤚🏻 https://t.co/Wp7Mr2ahzf\n",
      "{'neg': 0.0, 'neu': 0.84, 'pos': 0.16, 'compound': 0.7269}\n",
      "RT @69Sports: Wilson WL grad Allison Baver gets Bronze medal in 3000 meter short track speed skating.\n",
      "{'neg': 0.0, 'neu': 0.838, 'pos': 0.162, 'compound': 0.4767}\n",
      "RT @Alfaenshe: 'I would love to be at the next Olympics and if anything this will help my short track': Three-time speed skating world cham…\n",
      "{'neg': 0.0, 'neu': 0.769, 'pos': 0.231, 'compound': 0.7845}\n",
      "@richard_littler I almost never remember a dream but, last night, I dreamed that I discovered being good at short track speed skating 🤷‍♂️\n",
      "{'neg': 0.047, 'neu': 0.821, 'pos': 0.132, 'compound': 0.5393}\n"
     ]
    }
   ],
   "source": [
    "analyzer = SentimentIntensityAnalyzer()\n",
    "list_all_score = []\n",
    "for t in stk_tweet['text']:\n",
    "    vs = analyzer.polarity_scores(t)\n",
    "    print(t)\n",
    "    print(vs)\n",
    "    list_all_score.append(vs)"
   ]
  },
  {
   "cell_type": "code",
   "execution_count": 7,
   "id": "0f26eecc",
   "metadata": {},
   "outputs": [],
   "source": [
    "stk_tweet = pd.concat([stk_tweet, pd.DataFrame({'neg':[i['neg'] for i in list_all_score],\n",
    "             'neu':[i['neu'] for i in list_all_score],\n",
    "             'pos':[i['pos'] for i in list_all_score],\n",
    "             'compound':[i['compound'] for i in list_all_score]})], axis = 1)"
   ]
  },
  {
   "cell_type": "code",
   "execution_count": 8,
   "id": "f4e1888b",
   "metadata": {},
   "outputs": [
    {
     "data": {
      "text/html": [
       "<div>\n",
       "<style scoped>\n",
       "    .dataframe tbody tr th:only-of-type {\n",
       "        vertical-align: middle;\n",
       "    }\n",
       "\n",
       "    .dataframe tbody tr th {\n",
       "        vertical-align: top;\n",
       "    }\n",
       "\n",
       "    .dataframe thead th {\n",
       "        text-align: right;\n",
       "    }\n",
       "</style>\n",
       "<table border=\"1\" class=\"dataframe\">\n",
       "  <thead>\n",
       "    <tr style=\"text-align: right;\">\n",
       "      <th></th>\n",
       "      <th>id</th>\n",
       "      <th>text</th>\n",
       "      <th>neg</th>\n",
       "      <th>neu</th>\n",
       "      <th>pos</th>\n",
       "      <th>compound</th>\n",
       "    </tr>\n",
       "  </thead>\n",
       "  <tbody>\n",
       "    <tr>\n",
       "      <th>0</th>\n",
       "      <td>1509620481007054855</td>\n",
       "      <td>crazy Korea short track speed skating… https:/...</td>\n",
       "      <td>0.286</td>\n",
       "      <td>0.714</td>\n",
       "      <td>0.000</td>\n",
       "      <td>-0.3400</td>\n",
       "    </tr>\n",
       "    <tr>\n",
       "      <th>1</th>\n",
       "      <td>1509568253903118337</td>\n",
       "      <td>RT @JilinChina: ⛸️Li Qishi, a world champion i...</td>\n",
       "      <td>0.088</td>\n",
       "      <td>0.780</td>\n",
       "      <td>0.132</td>\n",
       "      <td>0.3182</td>\n",
       "    </tr>\n",
       "    <tr>\n",
       "      <th>2</th>\n",
       "      <td>1509456718627024896</td>\n",
       "      <td>⛸ 2022 #WorldShortTrack Speed Skating Champion...</td>\n",
       "      <td>0.000</td>\n",
       "      <td>0.842</td>\n",
       "      <td>0.158</td>\n",
       "      <td>0.4939</td>\n",
       "    </tr>\n",
       "    <tr>\n",
       "      <th>3</th>\n",
       "      <td>1509385276443226116</td>\n",
       "      <td>Yoongy Kwak is a national short track speed sk...</td>\n",
       "      <td>0.000</td>\n",
       "      <td>0.716</td>\n",
       "      <td>0.284</td>\n",
       "      <td>0.9551</td>\n",
       "    </tr>\n",
       "    <tr>\n",
       "      <th>4</th>\n",
       "      <td>1509338455087599618</td>\n",
       "      <td>@notouchkwak @NotaCuttlefish @BlisterRich Lol😆...</td>\n",
       "      <td>0.000</td>\n",
       "      <td>0.457</td>\n",
       "      <td>0.543</td>\n",
       "      <td>0.9804</td>\n",
       "    </tr>\n",
       "    <tr>\n",
       "      <th>5</th>\n",
       "      <td>1509324307218198528</td>\n",
       "      <td>RT @farmerkwak1226: He is a member of South Ko...</td>\n",
       "      <td>0.000</td>\n",
       "      <td>0.896</td>\n",
       "      <td>0.104</td>\n",
       "      <td>0.4404</td>\n",
       "    </tr>\n",
       "    <tr>\n",
       "      <th>6</th>\n",
       "      <td>1509324011179679746</td>\n",
       "      <td>He is a member of South Korea's national short...</td>\n",
       "      <td>0.000</td>\n",
       "      <td>0.840</td>\n",
       "      <td>0.160</td>\n",
       "      <td>0.7269</td>\n",
       "    </tr>\n",
       "    <tr>\n",
       "      <th>7</th>\n",
       "      <td>1509323080040132613</td>\n",
       "      <td>RT @69Sports: Wilson WL grad Allison Baver get...</td>\n",
       "      <td>0.000</td>\n",
       "      <td>0.838</td>\n",
       "      <td>0.162</td>\n",
       "      <td>0.4767</td>\n",
       "    </tr>\n",
       "    <tr>\n",
       "      <th>8</th>\n",
       "      <td>1509322545283149833</td>\n",
       "      <td>RT @Alfaenshe: 'I would love to be at the next...</td>\n",
       "      <td>0.000</td>\n",
       "      <td>0.769</td>\n",
       "      <td>0.231</td>\n",
       "      <td>0.7845</td>\n",
       "    </tr>\n",
       "    <tr>\n",
       "      <th>9</th>\n",
       "      <td>1509289306149601283</td>\n",
       "      <td>@richard_littler I almost never remember a dre...</td>\n",
       "      <td>0.047</td>\n",
       "      <td>0.821</td>\n",
       "      <td>0.132</td>\n",
       "      <td>0.5393</td>\n",
       "    </tr>\n",
       "  </tbody>\n",
       "</table>\n",
       "</div>"
      ],
      "text/plain": [
       "                    id                                               text  \\\n",
       "0  1509620481007054855  crazy Korea short track speed skating… https:/...   \n",
       "1  1509568253903118337  RT @JilinChina: ⛸️Li Qishi, a world champion i...   \n",
       "2  1509456718627024896  ⛸ 2022 #WorldShortTrack Speed Skating Champion...   \n",
       "3  1509385276443226116  Yoongy Kwak is a national short track speed sk...   \n",
       "4  1509338455087599618  @notouchkwak @NotaCuttlefish @BlisterRich Lol😆...   \n",
       "5  1509324307218198528  RT @farmerkwak1226: He is a member of South Ko...   \n",
       "6  1509324011179679746  He is a member of South Korea's national short...   \n",
       "7  1509323080040132613  RT @69Sports: Wilson WL grad Allison Baver get...   \n",
       "8  1509322545283149833  RT @Alfaenshe: 'I would love to be at the next...   \n",
       "9  1509289306149601283  @richard_littler I almost never remember a dre...   \n",
       "\n",
       "     neg    neu    pos  compound  \n",
       "0  0.286  0.714  0.000   -0.3400  \n",
       "1  0.088  0.780  0.132    0.3182  \n",
       "2  0.000  0.842  0.158    0.4939  \n",
       "3  0.000  0.716  0.284    0.9551  \n",
       "4  0.000  0.457  0.543    0.9804  \n",
       "5  0.000  0.896  0.104    0.4404  \n",
       "6  0.000  0.840  0.160    0.7269  \n",
       "7  0.000  0.838  0.162    0.4767  \n",
       "8  0.000  0.769  0.231    0.7845  \n",
       "9  0.047  0.821  0.132    0.5393  "
      ]
     },
     "execution_count": 8,
     "metadata": {},
     "output_type": "execute_result"
    }
   ],
   "source": [
    "stk_tweet"
   ]
  },
  {
   "cell_type": "code",
   "execution_count": 10,
   "id": "d45855b8",
   "metadata": {},
   "outputs": [],
   "source": [
    "import os"
   ]
  },
  {
   "cell_type": "code",
   "execution_count": 11,
   "id": "61c4a34a",
   "metadata": {},
   "outputs": [],
   "source": [
    "os.environ[\"JAVA_HOME\"] = \"/usr/lib/jvm/java-8-openjdk-amd64\"\n",
    "os.environ[\"SPARK_HOME\"] = \"/project/spark-3.2.1-bin-hadoop3.2\""
   ]
  },
  {
   "cell_type": "code",
   "execution_count": 12,
   "id": "91d683c5",
   "metadata": {},
   "outputs": [],
   "source": [
    "from pyspark.sql import SparkSession\n",
    "spark = SparkSession \\\n",
    "    .builder \\\n",
    "    .appName(\"PySpark App\") \\\n",
    "    .config(\"spark.jars\", \"postgresql-42.3.2.jar\") \\\n",
    "    .getOrCreate()"
   ]
  },
  {
   "cell_type": "code",
   "execution_count": 13,
   "id": "7f8fa140",
   "metadata": {},
   "outputs": [],
   "source": [
    "stk_tweet_df = spark.createDataFrame(stk_tweet)"
   ]
  },
  {
   "cell_type": "code",
   "execution_count": 14,
   "id": "dbc1b2c2",
   "metadata": {},
   "outputs": [
    {
     "name": "stdout",
     "output_type": "stream",
     "text": [
      "root\n",
      " |-- id: string (nullable = true)\n",
      " |-- text: string (nullable = true)\n",
      " |-- neg: double (nullable = true)\n",
      " |-- neu: double (nullable = true)\n",
      " |-- pos: double (nullable = true)\n",
      " |-- compound: double (nullable = true)\n",
      "\n"
     ]
    }
   ],
   "source": [
    "stk_tweet_df.printSchema()"
   ]
  },
  {
   "cell_type": "code",
   "execution_count": 15,
   "id": "daee98e1",
   "metadata": {},
   "outputs": [],
   "source": [
    "stk_tweet_df.write.parquet(\"parquet_files/stk_tweet.parquet\", mode = 'overwrite')"
   ]
  }
 ],
 "metadata": {
  "kernelspec": {
   "display_name": "Python 3",
   "language": "python",
   "name": "python3"
  },
  "language_info": {
   "codemirror_mode": {
    "name": "ipython",
    "version": 3
   },
   "file_extension": ".py",
   "mimetype": "text/x-python",
   "name": "python",
   "nbconvert_exporter": "python",
   "pygments_lexer": "ipython3",
   "version": "3.8.2"
  }
 },
 "nbformat": 4,
 "nbformat_minor": 5
}
